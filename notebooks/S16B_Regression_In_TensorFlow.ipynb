{
 "cells": [
  {
   "cell_type": "markdown",
   "metadata": {},
   "source": [
    "# Regression in TensorFlow"
   ]
  },
  {
   "cell_type": "code",
   "execution_count": null,
   "metadata": {},
   "outputs": [],
   "source": [
    "%matplotlib inline\n",
    "\n",
    "import matplotlib.pyplot as plt\n",
    "import numpy as np"
   ]
  },
  {
   "cell_type": "code",
   "execution_count": null,
   "metadata": {},
   "outputs": [],
   "source": [
    "import warnings\n",
    "warnings.simplefilter(action='ignore', category=FutureWarning)\n",
    "import h5py\n",
    "warnings.resetwarnings()\n",
    "warnings.simplefilter(action='ignore', category=ImportWarning)\n",
    "warnings.simplefilter(action='ignore', category=RuntimeWarning)\n",
    "warnings.simplefilter(action='ignore', category=DeprecationWarning)\n",
    "warnings.simplefilter(action='ignore', category=ResourceWarning)"
   ]
  },
  {
   "cell_type": "code",
   "execution_count": null,
   "metadata": {},
   "outputs": [],
   "source": [
    "import tensorflow as tf"
   ]
  },
  {
   "cell_type": "markdown",
   "metadata": {},
   "source": [
    "## Steps in fittting a model"
   ]
  },
  {
   "cell_type": "markdown",
   "metadata": {},
   "source": [
    "- Define model variables (parameters) and placeholders (data)\n",
    "- Define the loss function\n",
    "- Choose an optimizer to minimize the loss\n",
    "- Start a session\n",
    "    - Initialize global variables\n",
    "    - Run the optimizer for $n$ steps or epochs, feeding in appropriate data"
   ]
  },
  {
   "cell_type": "markdown",
   "metadata": {},
   "source": [
    "## Linear Regression"
   ]
  },
  {
   "cell_type": "code",
   "execution_count": null,
   "metadata": {},
   "outputs": [],
   "source": [
    "np.random.seed(123)"
   ]
  },
  {
   "cell_type": "code",
   "execution_count": null,
   "metadata": {},
   "outputs": [],
   "source": [
    "N = 10\n",
    "W_true = 2\n",
    "b_true = 1\n",
    "X_obs = np.arange(N).reshape((-1,1))\n",
    "eps = np.random.normal(0, 1, (N, 1))\n",
    "y_obs = np.reshape(W_true * X_obs + b_true + eps, (-1, 1))"
   ]
  },
  {
   "cell_type": "code",
   "execution_count": null,
   "metadata": {},
   "outputs": [],
   "source": [
    "plt.scatter(X_obs, y_obs)\n",
    "plt.plot(X_obs, W_true * X_obs + b_true, c='red')\n",
    "pass"
   ]
  },
  {
   "cell_type": "code",
   "execution_count": null,
   "metadata": {},
   "outputs": [],
   "source": [
    "X = tf.placeholder(tf.float32, (N, 1))\n",
    "y = tf.placeholder(tf.float32, (N, 1))\n",
    "W = tf.Variable(tf.random_normal((1,1)))\n",
    "b = tf.Variable(tf.random_normal((1,)))\n",
    "yhat = tf.matmul(X, W) + b\n",
    "loss = tf.reduce_sum(tf.square(y - yhat))\n",
    "\n",
    "train_op = tf.train.GradientDescentOptimizer(learning_rate=0.001).minimize(loss)\n",
    "init_op = tf.global_variables_initializer()"
   ]
  },
  {
   "cell_type": "code",
   "execution_count": null,
   "metadata": {},
   "outputs": [],
   "source": [
    "niter = 1001\n",
    "\n",
    "with tf.Session() as sess:\n",
    "    sess.run(init_op)\n",
    "    for i in range(niter):\n",
    "        _, weights, bias, l = sess.run([train_op, W, b, loss], feed_dict={X: X_obs, y: y_obs})\n",
    "        if i % 100 == 0:\n",
    "            print('%03d\\t%6.2f\\t%6.2f\\t%6.2f' % (i, weights[0][0], bias[0], l))"
   ]
  },
  {
   "cell_type": "markdown",
   "metadata": {},
   "source": [
    "## Logistic Regression\n",
    "\n",
    "We will use logistic regreesion to predict entry to graduate school based on GRE, GPA and rank of undegraduate college by prestige (1 = highest, 4= lowest)."
   ]
  },
  {
   "cell_type": "code",
   "execution_count": null,
   "metadata": {},
   "outputs": [],
   "source": [
    "import pandas as pd"
   ]
  },
  {
   "cell_type": "code",
   "execution_count": null,
   "metadata": {},
   "outputs": [],
   "source": [
    "df = pd.read_csv('https://stats.idre.ucla.edu/stat/data/binary.csv')"
   ]
  },
  {
   "cell_type": "code",
   "execution_count": null,
   "metadata": {},
   "outputs": [],
   "source": [
    "df.head()"
   ]
  },
  {
   "cell_type": "code",
   "execution_count": null,
   "metadata": {},
   "outputs": [],
   "source": [
    "df = pd.get_dummies(df, columns=['rank'], drop_first=True)\n",
    "df.head()"
   ]
  },
  {
   "cell_type": "markdown",
   "metadata": {},
   "source": [
    "Reset the data flow graph."
   ]
  },
  {
   "cell_type": "code",
   "execution_count": null,
   "metadata": {},
   "outputs": [],
   "source": [
    "N = df.shape[0]\n",
    "X = tf.placeholder(tf.float32, (N, 5))\n",
    "y = tf.placeholder(tf.float32, (N, 1))\n",
    "\n",
    "W = tf.Variable(tf.random_normal((5,1)))\n",
    "b = tf.Variable(tf.random_normal((1,)))\n",
    "\n",
    "yhat = tf.matmul(X, W) + b"
   ]
  },
  {
   "cell_type": "code",
   "execution_count": null,
   "metadata": {},
   "outputs": [],
   "source": [
    "loss = tf.reduce_sum(tf.nn.sigmoid_cross_entropy_with_logits(logits=yhat, labels=y))"
   ]
  },
  {
   "cell_type": "code",
   "execution_count": null,
   "metadata": {},
   "outputs": [],
   "source": [
    "train_op = tf.train.AdamOptimizer().minimize(loss)\n",
    "init_op = tf.global_variables_initializer()"
   ]
  },
  {
   "cell_type": "code",
   "execution_count": null,
   "metadata": {},
   "outputs": [],
   "source": [
    "niter = 25001\n",
    "\n",
    "with tf.Session() as sess:\n",
    "    sess.run(init_op)\n",
    "    for i in range(niter):\n",
    "        _, weights, bias, l = sess.run([train_op, W, b, loss], feed_dict={X: df.iloc[:, 1:], y: df.iloc[:, 0:1]})\n",
    "        if i % 5000 == 0:\n",
    "            print((i, weights.T[0], bias[0], l))"
   ]
  },
  {
   "cell_type": "markdown",
   "metadata": {},
   "source": [
    "#### R fit for comparison"
   ]
  },
  {
   "cell_type": "markdown",
   "metadata": {},
   "source": [
    "```R\n",
    "## Call:\n",
    "## glm(formula = admit ~ gre + gpa + rank, family = \"binomial\", \n",
    "##     data = mydata)\n",
    "## \n",
    "## Deviance Residuals: \n",
    "##    Min      1Q  Median      3Q     Max  \n",
    "## -1.627  -0.866  -0.639   1.149   2.079  \n",
    "## \n",
    "## Coefficients:\n",
    "##             Estimate Std. Error z value Pr(>|z|)    \n",
    "## (Intercept) -3.98998    1.13995   -3.50  0.00047 ***\n",
    "## gre          0.00226    0.00109    2.07  0.03847 *  \n",
    "## gpa          0.80404    0.33182    2.42  0.01539 *  \n",
    "## rank2       -0.67544    0.31649   -2.13  0.03283 *  \n",
    "## rank3       -1.34020    0.34531   -3.88  0.00010 ***\n",
    "## rank4       -1.55146    0.41783   -3.71  0.00020 ***\n",
    "## ---\n",
    "## Signif. codes:  0 '***' 0.001 '**' 0.01 '*' 0.05 '.' 0.1 ' ' 1\n",
    "## \n",
    "## (Dispersion parameter for binomial family taken to be 1)\n",
    "## \n",
    "##     Null deviance: 499.98  on 399  degrees of freedom\n",
    "## Residual deviance: 458.52  on 394  degrees of freedom\n",
    "## AIC: 470.5\n",
    "## \n",
    "## Number of Fisher Scoring iterations: 4\n",
    "```"
   ]
  },
  {
   "cell_type": "code",
   "execution_count": null,
   "metadata": {},
   "outputs": [],
   "source": []
  }
 ],
 "metadata": {
  "kernelspec": {
   "display_name": "Python 3",
   "language": "python",
   "name": "python3"
  },
  "language_info": {
   "codemirror_mode": {
    "name": "ipython",
    "version": 3
   },
   "file_extension": ".py",
   "mimetype": "text/x-python",
   "name": "python",
   "nbconvert_exporter": "python",
   "pygments_lexer": "ipython3",
   "version": "3.6.5"
  }
 },
 "nbformat": 4,
 "nbformat_minor": 2
}
