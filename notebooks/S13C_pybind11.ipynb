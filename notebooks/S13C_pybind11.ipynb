{
 "cells": [
  {
   "cell_type": "markdown",
   "metadata": {},
   "source": [
    "# Using `pybind11`\n",
    "\n",
    "The package `pybind11` is provides an elegant way to wrap C++ code for Python, including automatic conversions for `numpy` arrays and the C++ `Eigen` linear algebra library. Used with the `cppimport` package, this provides a very nice work flow for integrating C++ and Python:\n",
    "\n",
    "- Edit C++ code\n",
    "- Run Python code"
   ]
  },
  {
   "cell_type": "code",
   "execution_count": 1,
   "metadata": {},
   "outputs": [
    {
     "name": "stdout",
     "output_type": "stream",
     "text": [
      "Requirement already satisfied: pybind11 in /usr/local/lib/python3.6/site-packages\n",
      "Requirement already satisfied: cppimport in /usr/local/lib/python3.6/site-packages\n",
      "Requirement already satisfied: pybind11 in /usr/local/lib/python3.6/site-packages (from cppimport)\n",
      "Requirement already satisfied: mako in /usr/local/lib/python3.6/site-packages (from cppimport)\n",
      "Requirement already satisfied: MarkupSafe>=0.9.2 in /usr/local/lib/python3.6/site-packages (from mako->cppimport)\n"
     ]
    }
   ],
   "source": [
    "! pip3 install pybind11\n",
    "! pip3 install cppimport"
   ]
  },
  {
   "cell_type": "markdown",
   "metadata": {},
   "source": [
    "Clone the Eigen library if necessary - no installation is required as Eigen is a header only library."
   ]
  },
  {
   "cell_type": "markdown",
   "metadata": {},
   "source": [
    "```bash\n",
    "! git clone https://github.com/RLovelett/eigen.git\n",
    "```"
   ]
  },
  {
   "cell_type": "markdown",
   "metadata": {},
   "source": [
    "## Resources\n",
    "\n",
    "- [`pybind11`](http://pybind11.readthedocs.io/en/latest/)\n",
    "- [`cppimport`](https://github.com/tbenthompson/cppimport)\n",
    "- [`Eigen`](http://eigen.tuxfamily.org)"
   ]
  },
  {
   "cell_type": "markdown",
   "metadata": {},
   "source": [
    "## A first example of using `pybind11`\n",
    "\n",
    "Create a new subdirectory - e.g. `example1` and create the following 5 files in it:\n",
    "\n",
    "- `funcs.hpp`\n",
    "- `funcs.cpp`\n",
    "- `wrap.cpp`\n",
    "- `setup.py`\n",
    "- `test_funcs.py`"
   ]
  },
  {
   "cell_type": "markdown",
   "metadata": {},
   "source": [
    "First write the C++ header and implementation files"
   ]
  },
  {
   "cell_type": "code",
   "execution_count": 2,
   "metadata": {},
   "outputs": [
    {
     "name": "stdout",
     "output_type": "stream",
     "text": [
      "/Users/cliburn/_teach/sta-663-2018/notebooks/example1\n"
     ]
    }
   ],
   "source": [
    "%mkdir example1\n",
    "%cd example1"
   ]
  },
  {
   "cell_type": "code",
   "execution_count": 3,
   "metadata": {},
   "outputs": [
    {
     "name": "stdout",
     "output_type": "stream",
     "text": [
      "Writing funcs.hpp\n"
     ]
    }
   ],
   "source": [
    "%%file funcs.hpp\n",
    "\n",
    "int add(int i, int j);"
   ]
  },
  {
   "cell_type": "code",
   "execution_count": 4,
   "metadata": {},
   "outputs": [
    {
     "name": "stdout",
     "output_type": "stream",
     "text": [
      "Writing funcs.cpp\n"
     ]
    }
   ],
   "source": [
    "%%file funcs.cpp\n",
    "\n",
    "int add(int i, int j) {\n",
    "    return i + j;\n",
    "};"
   ]
  },
  {
   "cell_type": "markdown",
   "metadata": {},
   "source": [
    "Next write the C++ wrapper code using `pybind11` in `wrap.cpp`. The arguments `\"i\"_a=1, \"j\"_a=2` in the exported function definition tells `pybind11` to generate variables named `i` with default value 1 and `j` with default value 2 for the `add` function."
   ]
  },
  {
   "cell_type": "code",
   "execution_count": 5,
   "metadata": {},
   "outputs": [
    {
     "name": "stdout",
     "output_type": "stream",
     "text": [
      "Writing wrap1.cpp\n"
     ]
    }
   ],
   "source": [
    "%%file wrap1.cpp\n",
    "#include <pybind11/pybind11.h>\n",
    "#include \"funcs.hpp\"\n",
    "\n",
    "namespace py = pybind11;\n",
    "\n",
    "using namespace pybind11::literals;\n",
    "\n",
    "PYBIND11_PLUGIN(wrap1) {\n",
    "    py::module m(\"wrap1\", \"pybind11 example plugin\");\n",
    "    m.def(\"add\", &add, \"A function which adds two numbers\",\n",
    "          \"i\"_a=1, \"j\"_a=2);\n",
    "    return m.ptr();\n",
    "}"
   ]
  },
  {
   "cell_type": "markdown",
   "metadata": {},
   "source": [
    "Finally, write the `setup.py` file to compile the extension module. This is mostly boilerplate."
   ]
  },
  {
   "cell_type": "code",
   "execution_count": 36,
   "metadata": {},
   "outputs": [
    {
     "name": "stdout",
     "output_type": "stream",
     "text": [
      "Writing setup.py\n"
     ]
    }
   ],
   "source": [
    "%%file setup.py\n",
    "import os, sys\n",
    "\n",
    "from distutils.core import setup, Extension\n",
    "from distutils import sysconfig\n",
    "\n",
    "cpp_args = ['-std=c++11'] \n",
    "\n",
    "ext_modules = [\n",
    "    Extension(\n",
    "    'wrap1',\n",
    "        ['funcs.cpp', 'wrap1.cpp'],\n",
    "        include_dirs=['pybind11/include'],\n",
    "    language='c++',\n",
    "    extra_compile_args = cpp_args,\n",
    "    ),\n",
    "]\n",
    "\n",
    "setup(\n",
    "    name='wrap1',\n",
    "    version='0.0.1',\n",
    "    author='Cliburn Chan',\n",
    "    author_email='cliburn.chan@duke.edu',\n",
    "    description='Example',\n",
    "    ext_modules=ext_modules,\n",
    ")"
   ]
  },
  {
   "cell_type": "markdown",
   "metadata": {},
   "source": [
    "Now build the extension module in the subdirectory with these files"
   ]
  },
  {
   "cell_type": "code",
   "execution_count": 37,
   "metadata": {},
   "outputs": [
    {
     "name": "stdout",
     "output_type": "stream",
     "text": [
      "running build_ext\n",
      "building 'wrap1' extension\n",
      "creating build\n",
      "creating build/temp.macosx-10.13-x86_64-3.6\n",
      "clang -Wno-unused-result -Wsign-compare -Wunreachable-code -fno-common -dynamic -DNDEBUG -g -fwrapv -O3 -Wall -Wstrict-prototypes -I/usr/local/opt/llvm/include:-I/usr/local/opt/openssl/include -Ipybind11/include -I/usr/local/include -I/usr/local/opt/openssl/include -I/usr/local/opt/sqlite/include -I/usr/local/Cellar/python/3.6.4_4/Frameworks/Python.framework/Versions/3.6/include/python3.6m -c funcs.cpp -o build/temp.macosx-10.13-x86_64-3.6/funcs.o -std=c++11\n"
     ]
    },
    {
     "name": "stderr",
     "output_type": "stream",
     "text": [
      "clang-4.0: error: no such file or directory: 'funcs.cpp'\n",
      "clang-4.0: error: no input files\n",
      "error: command 'clang' failed with exit status 1\n"
     ]
    }
   ],
   "source": [
    "%%bash\n",
    "\n",
    "python setup.py build_ext -i"
   ]
  },
  {
   "cell_type": "markdown",
   "metadata": {},
   "source": [
    "And if you are successful, you should now see a new ```funcs.so``` extension module. We can write a `test_funcs.py` file test the extension module:"
   ]
  },
  {
   "cell_type": "code",
   "execution_count": 8,
   "metadata": {},
   "outputs": [
    {
     "name": "stdout",
     "output_type": "stream",
     "text": [
      "Writing test_funcs.py\n"
     ]
    }
   ],
   "source": [
    "%%file test_funcs.py\n",
    "\n",
    "import wrap1\n",
    "\n",
    "def test_add():\n",
    "    print(wrap1.add(3, 4))\n",
    "    assert(wrap1.add(3, 4) == 7)\n",
    "\n",
    "if __name__ == '__main__':\n",
    "    test_add()"
   ]
  },
  {
   "cell_type": "markdown",
   "metadata": {},
   "source": [
    "And finally, running the test should not generate any error messages:"
   ]
  },
  {
   "cell_type": "code",
   "execution_count": 9,
   "metadata": {},
   "outputs": [
    {
     "name": "stderr",
     "output_type": "stream",
     "text": [
      "Traceback (most recent call last):\n",
      "  File \"test_funcs.py\", line 2, in <module>\n",
      "    import wrap1\n",
      "ImportError: No module named wrap1\n"
     ]
    }
   ],
   "source": [
    "%%bash\n",
    "\n",
    "python test_funcs.py"
   ]
  },
  {
   "cell_type": "code",
   "execution_count": 10,
   "metadata": {},
   "outputs": [
    {
     "name": "stdout",
     "output_type": "stream",
     "text": [
      "/Users/cliburn/_teach/sta-663-2018/notebooks\n"
     ]
    }
   ],
   "source": [
    "%cd .."
   ]
  },
  {
   "cell_type": "markdown",
   "metadata": {},
   "source": [
    "## Using `cppimport`\n",
    "\n",
    "In the development stage, it can be distracting to have to repeatedly rebuild the extension module by running\n",
    "\n",
    "```bash\n",
    "python setup.py clean\n",
    "python setup.py build_ext -i\n",
    "```\n",
    "\n",
    "every single time you modify the C++ code. The `cppimport` package does this for you. \n",
    "\n",
    "Create a new sub-directory `exaample2` and copy the files `func.hpp`, `funcs.cpp` and `wrap.cpp` from `example1` over.\n",
    "For the previous example, we just need to add some annotation (between `<% and %>` delimiters) to the top of the `wrap.cpp` file"
   ]
  },
  {
   "cell_type": "code",
   "execution_count": 11,
   "metadata": {},
   "outputs": [
    {
     "name": "stdout",
     "output_type": "stream",
     "text": [
      "/Users/cliburn/_teach/sta-663-2018/notebooks/example2\n"
     ]
    }
   ],
   "source": [
    "%mkdir example2\n",
    "%cp example1/funcs.* example2/\n",
    "%cd example2"
   ]
  },
  {
   "cell_type": "code",
   "execution_count": 12,
   "metadata": {},
   "outputs": [
    {
     "name": "stdout",
     "output_type": "stream",
     "text": [
      "Writing wrap2.cpp\n"
     ]
    }
   ],
   "source": [
    "%%file wrap2.cpp\n",
    "<%\n",
    "cfg['compiler_args'] = ['-std=c++11'] \n",
    "cfg['sources'] = ['funcs.cpp']\n",
    "setup_pybind11(cfg)\n",
    "%>\n",
    "\n",
    "#include \"funcs.hpp\"\n",
    "#include <pybind11/pybind11.h>\n",
    "\n",
    "namespace py = pybind11;\n",
    "\n",
    "PYBIND11_PLUGIN(wrap2) {\n",
    "    py::module m(\"wrap2\", \"pybind11 example plugin\");\n",
    "    m.def(\"add\", &add, \"A function which adds two numbers\");\n",
    "    return m.ptr();\n",
    "}"
   ]
  },
  {
   "cell_type": "code",
   "execution_count": 13,
   "metadata": {},
   "outputs": [
    {
     "name": "stdout",
     "output_type": "stream",
     "text": [
      "Writing test_funcs.py\n"
     ]
    }
   ],
   "source": [
    "%%file test_funcs.py\n",
    "\n",
    "import cppimport\n",
    "funcs = cppimport.imp(\"wrap2\")\n",
    "\n",
    "def test_add():\n",
    "    assert(funcs.add(3, 4) == 7)\n",
    "\n",
    "if __name__ == '__main__':\n",
    "    print(funcs.add(3,4))\n",
    "    test_add()"
   ]
  },
  {
   "cell_type": "code",
   "execution_count": 14,
   "metadata": {},
   "outputs": [
    {
     "name": "stderr",
     "output_type": "stream",
     "text": [
      "Traceback (most recent call last):\n",
      "  File \"test_funcs.py\", line 2, in <module>\n",
      "    import cppimport\n",
      "ImportError: No module named cppimport\n"
     ]
    }
   ],
   "source": [
    "%%bash\n",
    "\n",
    "python test_funcs.py "
   ]
  },
  {
   "cell_type": "markdown",
   "metadata": {},
   "source": [
    "Or just call from notebook"
   ]
  },
  {
   "cell_type": "code",
   "execution_count": 15,
   "metadata": {},
   "outputs": [
    {
     "data": {
      "text/plain": [
       "7"
      ]
     },
     "execution_count": 15,
     "metadata": {},
     "output_type": "execute_result"
    }
   ],
   "source": [
    "import cppimport\n",
    "funcs = cppimport.imp(\"wrap2\")\n",
    "\n",
    "funcs.add(3, 4)"
   ]
  },
  {
   "cell_type": "markdown",
   "metadata": {},
   "source": [
    "without any need to manually build the extension module. Any updates will be detected by `cppimport` and it will automatically trigger a re-build."
   ]
  },
  {
   "cell_type": "code",
   "execution_count": 16,
   "metadata": {},
   "outputs": [
    {
     "name": "stdout",
     "output_type": "stream",
     "text": [
      "/Users/cliburn/_teach/sta-663-2018/notebooks\n"
     ]
    }
   ],
   "source": [
    "%cd .."
   ]
  },
  {
   "cell_type": "markdown",
   "metadata": {},
   "source": [
    "## Vectorizing functions for use with `numpy` arrays\n",
    "\n",
    "Example showing how to vectorize a `square` function. Note that from here on, we don't bother to use separate header and implementation files for these code snippets, and just write them together with the wrapping code in a `code.cpp` file. This means that with `cppimport`, there are only two files that we actually code for, a C++ `code.cpp` file and a python test file."
   ]
  },
  {
   "cell_type": "code",
   "execution_count": 17,
   "metadata": {},
   "outputs": [
    {
     "name": "stdout",
     "output_type": "stream",
     "text": [
      "/Users/cliburn/_teach/sta-663-2018/notebooks/example3\n"
     ]
    }
   ],
   "source": [
    "%mkdir example3\n",
    "%cd example3"
   ]
  },
  {
   "cell_type": "code",
   "execution_count": 18,
   "metadata": {},
   "outputs": [
    {
     "name": "stdout",
     "output_type": "stream",
     "text": [
      "Writing wrap3.cpp\n"
     ]
    }
   ],
   "source": [
    "%%file wrap3.cpp\n",
    "<%\n",
    "cfg['compiler_args'] = ['-std=c++11'] \n",
    "setup_pybind11(cfg)\n",
    "%>\n",
    "\n",
    "#include <pybind11/pybind11.h>\n",
    "#include <pybind11/numpy.h>\n",
    "\n",
    "namespace py = pybind11;\n",
    "double square(double x) {\n",
    "    return x * x;\n",
    "}\n",
    "\n",
    "PYBIND11_PLUGIN(wrap3) {\n",
    "    py::module m(\"wrap3\", \"pybind11 example plugin\");\n",
    "    m.def(\"square\", py::vectorize(square), \"A vectroized square function.\");\n",
    "    return m.ptr();\n",
    "}"
   ]
  },
  {
   "cell_type": "code",
   "execution_count": 19,
   "metadata": {},
   "outputs": [
    {
     "data": {
      "text/plain": [
       "array([1., 4., 9.])"
      ]
     },
     "execution_count": 19,
     "metadata": {},
     "output_type": "execute_result"
    }
   ],
   "source": [
    "import cppimport\n",
    "\n",
    "wrap3 = cppimport.imp(\"wrap3\")\n",
    "wrap3.square([1,2,3])"
   ]
  },
  {
   "cell_type": "markdown",
   "metadata": {},
   "source": [
    "Once the shared libary is built, you can use it as a regular Python module."
   ]
  },
  {
   "cell_type": "code",
   "execution_count": 20,
   "metadata": {},
   "outputs": [
    {
     "name": "stdout",
     "output_type": "stream",
     "text": [
      "wrap3.cpp                   \u001b[31mwrap3.cpython-36m-darwin.so\u001b[m\u001b[m\r\n"
     ]
    }
   ],
   "source": [
    "! ls"
   ]
  },
  {
   "cell_type": "code",
   "execution_count": 21,
   "metadata": {},
   "outputs": [
    {
     "data": {
      "text/plain": [
       "array([ 4., 16., 36.])"
      ]
     },
     "execution_count": 21,
     "metadata": {},
     "output_type": "execute_result"
    }
   ],
   "source": [
    "import wrap3\n",
    "\n",
    "wrap3.square([2,4,6])"
   ]
  },
  {
   "cell_type": "code",
   "execution_count": 22,
   "metadata": {},
   "outputs": [
    {
     "name": "stdout",
     "output_type": "stream",
     "text": [
      "/Users/cliburn/_teach/sta-663-2018/notebooks\n"
     ]
    }
   ],
   "source": [
    "%cd .."
   ]
  },
  {
   "cell_type": "markdown",
   "metadata": {},
   "source": [
    "## Using `numpy` arrays as function arguments and return values\n",
    "\n",
    "Example showing how to pass `numpy` arrays in and out of functions. These `numpy` array arguments can either be generic `py:array` or typed `py:array_t<double>`. The properties of the `numpy` array can be obtained by calling its `request` method. This returns a `struct` of the following form:\n",
    "\n",
    "```c++\n",
    "struct buffer_info {\n",
    "    void *ptr;\n",
    "    size_t itemsize;\n",
    "    std::string format;\n",
    "    int ndim;\n",
    "    std::vector<size_t> shape;\n",
    "    std::vector<size_t> strides;\n",
    "};\n",
    "```\n",
    "\n",
    "Here is C++ code for two functions - the function `twice` shows how to change a passed in `numpy` array in-place using pointers; the function `sum` shows how to sum the elements of a `numpy` array. By taking advantage of the information in `buffer_info`, the code will work for arbitrary `n-d` arrays."
   ]
  },
  {
   "cell_type": "code",
   "execution_count": 23,
   "metadata": {},
   "outputs": [
    {
     "name": "stdout",
     "output_type": "stream",
     "text": [
      "/Users/cliburn/_teach/sta-663-2018/notebooks/example4\n"
     ]
    }
   ],
   "source": [
    "%mkdir example4\n",
    "%cd example4"
   ]
  },
  {
   "cell_type": "code",
   "execution_count": 24,
   "metadata": {},
   "outputs": [
    {
     "name": "stdout",
     "output_type": "stream",
     "text": [
      "Writing wrap4.cpp\n"
     ]
    }
   ],
   "source": [
    "%%file wrap4.cpp\n",
    "<%\n",
    "cfg['compiler_args'] = ['-std=c++11']\n",
    "setup_pybind11(cfg)\n",
    "%>\n",
    "\n",
    "#include <pybind11/pybind11.h>\n",
    "#include <pybind11/numpy.h>\n",
    "\n",
    "namespace py = pybind11;\n",
    "\n",
    "// Passing in an array of doubles\n",
    "void twice(py::array_t<double> xs) {\n",
    "    py::buffer_info info = xs.request();\n",
    "    auto ptr = static_cast<double *>(info.ptr);\n",
    "\n",
    "    int n = 1;\n",
    "    for (auto r: info.shape) {\n",
    "      n *= r;\n",
    "    }\n",
    "\n",
    "    for (int i = 0; i <n; i++) {\n",
    "        *ptr++ *= 2;\n",
    "    }\n",
    "}\n",
    "\n",
    "// Passing in a generic array\n",
    "double sum(py::array xs) {\n",
    "    py::buffer_info info = xs.request();\n",
    "    auto ptr = static_cast<double *>(info.ptr);\n",
    "\n",
    "    int n = 1;\n",
    "    for (auto r: info.shape) {\n",
    "      n *= r;\n",
    "    }\n",
    "\n",
    "    double s = 0.0;\n",
    "    for (int i = 0; i <n; i++) {\n",
    "        s += *ptr++;\n",
    "    }\n",
    "\n",
    "    return s;\n",
    "}\n",
    "\n",
    "PYBIND11_PLUGIN(wrap4) {\n",
    "    pybind11::module m(\"wrap4\", \"auto-compiled c++ extension\");\n",
    "    m.def(\"sum\", &sum);\n",
    "    m.def(\"twice\", &twice);\n",
    "    return m.ptr();\n",
    "}"
   ]
  },
  {
   "cell_type": "code",
   "execution_count": 25,
   "metadata": {},
   "outputs": [
    {
     "name": "stdout",
     "output_type": "stream",
     "text": [
      "Writing test_code.py\n"
     ]
    }
   ],
   "source": [
    "%%file test_code.py\n",
    "import cppimport\n",
    "import numpy as np\n",
    "\n",
    "code = cppimport.imp(\"wrap4\")\n",
    "\n",
    "if __name__ == '__main__':\n",
    "    xs = np.arange(12).reshape(3,4).astype('float')\n",
    "    print(xs)\n",
    "    print(\"np :\", xs.sum())\n",
    "    print(\"cpp:\", code.sum(xs))\n",
    "\n",
    "    print()\n",
    "    code.twice(xs)\n",
    "    print(xs)"
   ]
  },
  {
   "cell_type": "code",
   "execution_count": 26,
   "metadata": {},
   "outputs": [
    {
     "name": "stderr",
     "output_type": "stream",
     "text": [
      "Traceback (most recent call last):\n",
      "  File \"test_code.py\", line 1, in <module>\n",
      "    import cppimport\n",
      "ImportError: No module named cppimport\n"
     ]
    }
   ],
   "source": [
    "%%bash\n",
    "\n",
    "python test_code.py"
   ]
  },
  {
   "cell_type": "code",
   "execution_count": 27,
   "metadata": {},
   "outputs": [
    {
     "name": "stdout",
     "output_type": "stream",
     "text": [
      "/Users/cliburn/_teach/sta-663-2018/notebooks\n"
     ]
    }
   ],
   "source": [
    "%cd .."
   ]
  },
  {
   "cell_type": "markdown",
   "metadata": {},
   "source": [
    "## More on working with `numpy` arrays\n",
    "\n",
    "This example shows how to use array access for `numpy` arrays within the C++ function. It is taken from the `pybind11` documentation, but fixes a small bug in the official version. As noted in the documentation, the function would be more easily coded using `py::vectorize`."
   ]
  },
  {
   "cell_type": "code",
   "execution_count": 28,
   "metadata": {},
   "outputs": [
    {
     "name": "stdout",
     "output_type": "stream",
     "text": [
      "/Users/cliburn/_teach/sta-663-2018/notebooks/example5\n"
     ]
    }
   ],
   "source": [
    "%mkdir example5\n",
    "%cd example5"
   ]
  },
  {
   "cell_type": "code",
   "execution_count": 29,
   "metadata": {},
   "outputs": [
    {
     "name": "stdout",
     "output_type": "stream",
     "text": [
      "Writing wrap5.cpp\n"
     ]
    }
   ],
   "source": [
    "%%file wrap5.cpp\n",
    "<%\n",
    "cfg['compiler_args'] = ['-std=c++11']\n",
    "setup_pybind11(cfg)\n",
    "%>\n",
    "\n",
    "#include <pybind11/pybind11.h>\n",
    "#include <pybind11/numpy.h>\n",
    "\n",
    "namespace py = pybind11;\n",
    "\n",
    "py::array_t<double> add_arrays(py::array_t<double> input1, py::array_t<double> input2) {\n",
    "    auto buf1 = input1.request(), buf2 = input2.request();\n",
    "\n",
    "    if (buf1.ndim != 1 || buf2.ndim != 1)\n",
    "        throw std::runtime_error(\"Number of dimensions must be one\");\n",
    "\n",
    "    if (buf1.shape[0] != buf2.shape[0])\n",
    "        throw std::runtime_error(\"Input shapes must match\");\n",
    "\n",
    "    auto result = py::array(py::buffer_info(\n",
    "        nullptr,            /* Pointer to data (nullptr -> ask NumPy to allocate!) */\n",
    "        sizeof(double),     /* Size of one item */\n",
    "        py::format_descriptor<double>::value, /* Buffer format */\n",
    "        buf1.ndim,          /* How many dimensions? */\n",
    "        { buf1.shape[0] },  /* Number of elements for each dimension */\n",
    "        { sizeof(double) }  /* Strides for each dimension */\n",
    "    ));\n",
    "\n",
    "    auto buf3 = result.request();\n",
    "\n",
    "    double *ptr1 = (double *) buf1.ptr,\n",
    "           *ptr2 = (double *) buf2.ptr,\n",
    "           *ptr3 = (double *) buf3.ptr;\n",
    "\n",
    "    for (size_t idx = 0; idx < buf1.shape[0]; idx++)\n",
    "        ptr3[idx] = ptr1[idx] + ptr2[idx];\n",
    "\n",
    "    return result;\n",
    "}\n",
    "\n",
    "PYBIND11_PLUGIN(wrap5) {\n",
    "    py::module m(\"wrap5\");\n",
    "    m.def(\"add_arrays\", &add_arrays, \"Add two NumPy arrays\");\n",
    "    return m.ptr();\n",
    "}"
   ]
  },
  {
   "cell_type": "code",
   "execution_count": 30,
   "metadata": {},
   "outputs": [
    {
     "name": "stdout",
     "output_type": "stream",
     "text": [
      "[ 0  1  2  3  4  5  6  7  8  9 10 11]\n",
      "[ 0.  2.  4.  6.  8. 10. 12. 14. 16. 18. 20. 22.]\n"
     ]
    }
   ],
   "source": [
    "import cppimport\n",
    "import numpy as np\n",
    "\n",
    "code = cppimport.imp(\"wrap5\")\n",
    "\n",
    "xs = np.arange(12)\n",
    "print(xs)\n",
    "\n",
    "print(code.add_arrays(xs, xs))"
   ]
  },
  {
   "cell_type": "code",
   "execution_count": 31,
   "metadata": {},
   "outputs": [
    {
     "name": "stdout",
     "output_type": "stream",
     "text": [
      "/Users/cliburn/_teach/sta-663-2018/notebooks\n"
     ]
    }
   ],
   "source": [
    "%cd .."
   ]
  },
  {
   "cell_type": "markdown",
   "metadata": {},
   "source": [
    "## Using the C++ `eigen` library to calculate matrix inverse and determinant\n",
    "\n",
    "Example showing how `Eigen` vectors and matrices can be passed in and out of C++ functions. Note that `Eigen` arrays are automatically converted to/from `numpy` arrays simply by including the `pybind/eigen.h` header. Because of this, it is probably simplest in most cases to work with `Eigen` vectors and matrices rather than `py::buffer` or `py::array` where `py::vectorize` is insufficient."
   ]
  },
  {
   "cell_type": "code",
   "execution_count": 32,
   "metadata": {},
   "outputs": [
    {
     "name": "stdout",
     "output_type": "stream",
     "text": [
      "/Users/cliburn/_teach/sta-663-2018/notebooks/example6\n"
     ]
    }
   ],
   "source": [
    "%mkdir example6\n",
    "%cd example6"
   ]
  },
  {
   "cell_type": "code",
   "execution_count": 33,
   "metadata": {},
   "outputs": [
    {
     "name": "stdout",
     "output_type": "stream",
     "text": [
      "Writing wrap6.cpp\n"
     ]
    }
   ],
   "source": [
    "%%file wrap6.cpp\n",
    "<%\n",
    "cfg['compiler_args'] = ['-std=c++11']\n",
    "cfg['include_dirs'] = ['./eigen']\n",
    "setup_pybind11(cfg)\n",
    "%>\n",
    "\n",
    "#include <pybind11/pybind11.h>\n",
    "#include <pybind11/eigen.h>\n",
    "\n",
    "#include <Eigen/LU>\n",
    "\n",
    "namespace py = pybind11;\n",
    "\n",
    "// convenient matrix indexing comes for free\n",
    "double get(Eigen::MatrixXd xs, int i, int j) {\n",
    "    return xs(i, j);\n",
    "}\n",
    "\n",
    "// takes numpy array as input and returns double\n",
    "double det(Eigen::MatrixXd xs) {\n",
    "    return xs.determinant();\n",
    "}\n",
    "\n",
    "// takes numpy array as input and returns another numpy array\n",
    "Eigen::MatrixXd inv(Eigen::MatrixXd xs) {\n",
    "    return xs.inverse();\n",
    "}\n",
    "\n",
    "PYBIND11_PLUGIN(wrap6) {\n",
    "    pybind11::module m(\"wrap6\", \"auto-compiled c++ extension\");\n",
    "    m.def(\"inv\", &inv);\n",
    "    m.def(\"det\", &det);\n",
    "    return m.ptr();\n",
    "}"
   ]
  },
  {
   "cell_type": "code",
   "execution_count": 34,
   "metadata": {},
   "outputs": [
    {
     "ename": "SystemExit",
     "evalue": "error: command 'clang' failed with exit status 1",
     "output_type": "error",
     "traceback": [
      "An exception has occurred, use %tb to see the full traceback.\n",
      "\u001b[0;31mSystemExit\u001b[0m\u001b[0;31m:\u001b[0m error: command 'clang' failed with exit status 1\n"
     ]
    },
    {
     "name": "stderr",
     "output_type": "stream",
     "text": [
      "/usr/local/lib/python3.6/site-packages/IPython/core/interactiveshell.py:2918: UserWarning: To exit: use 'exit', 'quit', or Ctrl-D.\n",
      "  warn(\"To exit: use 'exit', 'quit', or Ctrl-D.\", stacklevel=1)\n"
     ]
    }
   ],
   "source": [
    "import cppimport\n",
    "import numpy as np\n",
    "\n",
    "code = cppimport.imp(\"wrap6\")\n",
    "\n",
    "A = np.array([[1,2,1],\n",
    "              [2,1,0],\n",
    "              [-1,1,2]])\n",
    "\n",
    "print(A)\n",
    "print(code.det(A))\n",
    "print(code.inv(A))"
   ]
  },
  {
   "cell_type": "code",
   "execution_count": null,
   "metadata": {},
   "outputs": [],
   "source": [
    "%cd .."
   ]
  },
  {
   "cell_type": "markdown",
   "metadata": {},
   "source": [
    "## Using `pybind11` with `openmp`"
   ]
  },
  {
   "cell_type": "code",
   "execution_count": null,
   "metadata": {},
   "outputs": [],
   "source": [
    "%mkdir example7\n",
    "%cd example7"
   ]
  },
  {
   "cell_type": "markdown",
   "metadata": {},
   "source": [
    "Here is an example of using OpenMP to integrate the value of $\\pi$ written using `pybind11`."
   ]
  },
  {
   "cell_type": "code",
   "execution_count": null,
   "metadata": {},
   "outputs": [],
   "source": [
    "%%file wrap7.cpp\n",
    "/*\n",
    "<%\n",
    "cfg['compiler_args'] = ['-std=c++11', '-fopenmp']\n",
    "cfg['linker_args'] = ['-lgomp']\n",
    "setup_pybind11(cfg)\n",
    "%>\n",
    "*/\n",
    "#include <cmath>\n",
    "#include <omp.h>\n",
    "#include <pybind11/pybind11.h>\n",
    "#include <pybind11/numpy.h>\n",
    "\n",
    "namespace py = pybind11;\n",
    "\n",
    "// Passing in an array of doubles\n",
    "void twice(py::array_t<double> xs) {\n",
    "    py::gil_scoped_acquire acquire;\n",
    "    \n",
    "    py::buffer_info info = xs.request();\n",
    "    auto ptr = static_cast<double *>(info.ptr);\n",
    "\n",
    "    int n = 1;\n",
    "    for (auto r: info.shape) {\n",
    "      n *= r;\n",
    "    }\n",
    "\n",
    "    #pragma omp parallel for\n",
    "    for (int i = 0; i <n; i++) {\n",
    "        *ptr++ *= 2;\n",
    "    }\n",
    "}  \n",
    "\n",
    "PYBIND11_PLUGIN(wrap7) {\n",
    "  pybind11::module m(\"wrap7\", \"auto-compiled c++ extension\");\n",
    "  m.def(\"twice\", [](py::array_t<double> xs) {\n",
    "      /* Release GIL before calling into C++ code */      \n",
    "      py::gil_scoped_release release;\n",
    "      return twice(xs);\n",
    "    });\n",
    "\n",
    "  return m.ptr();\n",
    "}"
   ]
  },
  {
   "cell_type": "code",
   "execution_count": null,
   "metadata": {},
   "outputs": [],
   "source": [
    "import cppimport\n",
    "import numpy as np\n",
    "\n",
    "code = cppimport.imp(\"wrap7\")\n",
    "xs = np.arange(10).astype('double')\n",
    "code.twice(xs)\n",
    "xs"
   ]
  },
  {
   "cell_type": "code",
   "execution_count": null,
   "metadata": {},
   "outputs": [],
   "source": [
    "%cd .."
   ]
  }
 ],
 "metadata": {
  "kernelspec": {
   "display_name": "Python 3",
   "language": "python",
   "name": "python3"
  },
  "language_info": {
   "codemirror_mode": {
    "name": "ipython",
    "version": 3
   },
   "file_extension": ".py",
   "mimetype": "text/x-python",
   "name": "python",
   "nbconvert_exporter": "python",
   "pygments_lexer": "ipython3",
   "version": "3.6.4"
  },
  "latex_envs": {
   "bibliofile": "biblio.bib",
   "cite_by": "apalike",
   "current_citInitial": 1,
   "eqLabelWithNumbers": true,
   "eqNumInitial": 0
  }
 },
 "nbformat": 4,
 "nbformat_minor": 1
}
