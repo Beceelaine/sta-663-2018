{
 "cells": [
  {
   "cell_type": "markdown",
   "metadata": {},
   "source": [
    "# Constrained Optimization"
   ]
  },
  {
   "cell_type": "markdown",
   "metadata": {},
   "source": [
    "Find the minimum of the following quadratic function on $\\mathbb{R}^2$ \n",
    "\n",
    "$$f(x) = x^TAx +b^Tx +c$$\n",
    "where\n",
    "$$A = \\left(\\begin{matrix}13&5\\\\5&7\\end{matrix}\\right), b = \\left(\\begin{matrix}1\\\\1\\end{matrix}\\right) \\textrm {and } c = 2$$\n",
    "\n",
    "Under the constraints:\n",
    "$$g(x) = 2x_1-5x_2=2 \\;\\;\\;\\;\\;\\; \\textrm{ and } \\;\\;\\;\\;\\;\\; h(x) = x_1+x_2=1$$\n",
    "\n",
    "1. Use a matrix decomposition method to find the minimum of the *unconstrained* problem without using `scipy.optimize` (Use library functions - no need to code your own). Note: for full credit you should exploit matrix structure. \n",
    "2. Find the solution using constrained optimization with the `scipy.optimize` package. \n",
    "2. Use Lagrange multipliers and solving the resulting set of equations directly without using `scipy.optimize`. "
   ]
  },
  {
   "cell_type": "markdown",
   "metadata": {},
   "source": [
    "## Solve unconstrained problem\n",
    "\n",
    "To find the minimum, we differentiate $f(x)$ with respect to $x^T$ and set it equal to $0$. We thus need to solve\n",
    "\n",
    "$$\n",
    "2Ax + b = 0\n",
    "$$\n",
    "\n",
    "or\n",
    "\n",
    "$$ \n",
    "Ax = -\\frac{b}{2}\n",
    "$$\n",
    "\n",
    "We see that $A$ is a symmetric positive definite real matrix. Hence we use Cholesky factorization."
   ]
  },
  {
   "cell_type": "code",
   "execution_count": 1,
   "metadata": {
    "collapsed": true
   },
   "outputs": [],
   "source": [
    "import numpy as np"
   ]
  },
  {
   "cell_type": "code",
   "execution_count": 2,
   "metadata": {
    "collapsed": true
   },
   "outputs": [],
   "source": [
    "from scipy.linalg import cholesky, solve_triangular, cho_solve, cho_factor"
   ]
  },
  {
   "cell_type": "code",
   "execution_count": 3,
   "metadata": {},
   "outputs": [],
   "source": [
    "A = np.array([\n",
    "    [13,5],\n",
    "    [5,7]\n",
    "])\n",
    "b = np.array([1,1]).reshape(-1,1)\n",
    "c = 2"
   ]
  },
  {
   "cell_type": "markdown",
   "metadata": {},
   "source": [
    "### Solve using Cholesky \n",
    "\n",
    "Steps\n",
    "\n",
    "$$\n",
    "L = \\text{cholesky}(A) \\\\\n",
    "\\text{solve } Ly = b \\\\\n",
    "\\text{solve } L^Tx = y\n",
    "$$"
   ]
  },
  {
   "cell_type": "code",
   "execution_count": 4,
   "metadata": {
    "collapsed": true
   },
   "outputs": [],
   "source": [
    "L = cholesky(A, lower=True)\n",
    "y = solve_triangular(L, -b/2, lower=True)\n",
    "x = solve_triangular(L.T, y, lower=False)"
   ]
  },
  {
   "cell_type": "code",
   "execution_count": 5,
   "metadata": {},
   "outputs": [
    {
     "data": {
      "text/plain": [
       "array([[-0.01515152],\n",
       "       [-0.06060606]])"
      ]
     },
     "execution_count": 5,
     "metadata": {},
     "output_type": "execute_result"
    }
   ],
   "source": [
    "x"
   ]
  },
  {
   "cell_type": "markdown",
   "metadata": {},
   "source": [
    "#### Short cut"
   ]
  },
  {
   "cell_type": "code",
   "execution_count": 6,
   "metadata": {},
   "outputs": [
    {
     "data": {
      "text/plain": [
       "array([[-0.01515152],\n",
       "       [-0.06060606]])"
      ]
     },
     "execution_count": 6,
     "metadata": {},
     "output_type": "execute_result"
    }
   ],
   "source": [
    "cho_solve(cho_factor(A), -b/2)"
   ]
  },
  {
   "cell_type": "markdown",
   "metadata": {},
   "source": [
    "## Solve constrained problem using `scipy.optimize`"
   ]
  },
  {
   "cell_type": "code",
   "execution_count": 7,
   "metadata": {
    "collapsed": true
   },
   "outputs": [],
   "source": [
    "f = lambda x, A, b, c: x.T @ A @ x + b.T @ x + c"
   ]
  },
  {
   "cell_type": "code",
   "execution_count": 8,
   "metadata": {
    "collapsed": true
   },
   "outputs": [],
   "source": [
    "from scipy.optimize import minimize"
   ]
  },
  {
   "cell_type": "code",
   "execution_count": 9,
   "metadata": {},
   "outputs": [
    {
     "data": {
      "text/plain": [
       "array([1.00000000e+00, 3.41607086e-16])"
      ]
     },
     "execution_count": 9,
     "metadata": {},
     "output_type": "execute_result"
    }
   ],
   "source": [
    "cons = ({'type': 'eq', 'fun': lambda x: 2*x[0] - 5*x[1] - 2},\n",
    "        {'type': 'eq', 'fun': lambda x: x[0] + x[1] - 1})\n",
    "\n",
    "res = minimize(f, [0,0], constraints=cons, args=(A, b, c))\n",
    "res.x"
   ]
  },
  {
   "cell_type": "markdown",
   "metadata": {},
   "source": [
    "## Solve constrained problem using Lagrange multipliers"
   ]
  },
  {
   "cell_type": "markdown",
   "metadata": {},
   "source": [
    "We want to solve the following problem\n",
    "\n",
    "$$\n",
    "L(x_1, x_2, \\lambda, \\mu) = \\nabla f + \\lambda \\nabla g + \\mu \\nabla h = 0 \\\\\n",
    "g(x) = 2 \\\\\n",
    "h(x) = 1\n",
    "$$\n",
    "\n",
    "Sometimes the Lagrangian is written as \n",
    "\n",
    "$$\n",
    "L(x_1, x_2, \\lambda, \\mu) = \\nabla f - \\lambda \\nabla g - \\mu \\nabla h\n",
    "$$\n",
    "\n",
    "All this means is a final sign change in the estimated values of $\\lambda$ and $\\mu$.\n",
    "\n",
    "This can be written in matrix from as \n",
    "\n",
    "$$\n",
    "\\begin{bmatrix}\n",
    "\\frac{\\delta f}{\\delta x_1} & \\frac{\\delta f}{\\delta x_2} & \\frac{\\delta f}{\\delta \\lambda} & \\frac{\\delta f}{\\delta \\mu} \\\\\n",
    "2 & -5 & 0 & 0 \\\\\n",
    "1 & 1 & 0 & 0 \n",
    "\\end{bmatrix} \\begin{bmatrix}\n",
    "x_1 \\\\\n",
    "x_2 \\\\\n",
    "\\lambda \\\\\n",
    "\\mu\n",
    "\\end{bmatrix} = \\begin{bmatrix}\n",
    "-1 \\\\\n",
    "-1 \\\\\n",
    "2 \\\\\n",
    "1\n",
    "\\end{bmatrix} \n",
    "$$\n",
    "\n",
    "Plugging in the numbers, we finally get\n",
    "\n",
    "$$\n",
    "\\begin{bmatrix}\n",
    "26 & 10 & 2 & 1 \\\\\n",
    "10 & 14 & -5 & 1 \\\\\n",
    "2 & -5 & 0 & 0 \\\\\n",
    "1 & 1 & 0 & 0 \n",
    "\\end{bmatrix} \\begin{bmatrix}\n",
    "x_1 \\\\\n",
    "x_2 \\\\\n",
    "\\lambda \\\\\n",
    "\\mu\n",
    "\\end{bmatrix} = \\begin{bmatrix}\n",
    "-1 \\\\\n",
    "-1 \\\\\n",
    "2 \\\\\n",
    "1\n",
    "\\end{bmatrix}\n",
    "$$"
   ]
  },
  {
   "cell_type": "code",
   "execution_count": 10,
   "metadata": {
    "collapsed": true
   },
   "outputs": [],
   "source": [
    "from scipy.linalg import solve"
   ]
  },
  {
   "cell_type": "code",
   "execution_count": 11,
   "metadata": {
    "collapsed": true
   },
   "outputs": [],
   "source": [
    "A = np.array([\n",
    "    [26, 10, 2, 1],\n",
    "    [10, 14, -5, 1],\n",
    "    [2, -5, 0, 0],\n",
    "    [1, 1, 0, 0]\n",
    "])\n",
    "b = np.array([-1, -1, 2, 1]).reshape(-1,1)"
   ]
  },
  {
   "cell_type": "code",
   "execution_count": 12,
   "metadata": {},
   "outputs": [
    {
     "data": {
      "text/plain": [
       "array([[ 1.00000000e+00],\n",
       "       [-4.37360585e-17],\n",
       "       [-2.28571429e+00],\n",
       "       [-2.24285714e+01]])"
      ]
     },
     "execution_count": 12,
     "metadata": {},
     "output_type": "execute_result"
    }
   ],
   "source": [
    "solve(A, b)"
   ]
  },
  {
   "cell_type": "code",
   "execution_count": null,
   "metadata": {
    "collapsed": true
   },
   "outputs": [],
   "source": []
  }
 ],
 "metadata": {
  "kernelspec": {
   "display_name": "Python 3",
   "language": "python",
   "name": "python3"
  },
  "language_info": {
   "codemirror_mode": {
    "name": "ipython",
    "version": 3
   },
   "file_extension": ".py",
   "mimetype": "text/x-python",
   "name": "python",
   "nbconvert_exporter": "python",
   "pygments_lexer": "ipython3",
   "version": "3.6.1"
  }
 },
 "nbformat": 4,
 "nbformat_minor": 2
}
